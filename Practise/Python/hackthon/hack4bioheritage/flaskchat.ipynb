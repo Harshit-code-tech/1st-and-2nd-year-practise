{
 "cells": [
  {
   "metadata": {
    "ExecuteTime": {
     "end_time": "2024-05-12T13:56:30.688713Z",
     "start_time": "2024-05-12T13:56:30.608539Z"
    }
   },
   "cell_type": "code",
   "source": [
    "import json\n",
    "from flask import Flask, request, jsonify\n"
   ],
   "id": "5e9dade1c0e4b216",
   "outputs": [],
   "execution_count": 1
  },
  {
   "metadata": {
    "ExecuteTime": {
     "end_time": "2024-05-12T13:56:30.693842Z",
     "start_time": "2024-05-12T13:56:30.690008Z"
    }
   },
   "cell_type": "code",
   "source": [
    "with open('/home/hgidea/Desktop/Coding/Python/hackthon/hack4bioheritage/intents.json', 'r') as file:\n",
    "    intents_data = json.load(file)\n",
    "\n",
    "intents = intents_data['intents']\n",
    "\n",
    "def generate_response(user_query):\n",
    "    for intent in intents:\n",
    "        for pattern in intent['patterns']:\n",
    "            if user_query.lower() in pattern.lower():\n",
    "                response = intent['responses']\n",
    "                return response\n",
    "    return \"Sorry, I didn't understand that. Can you please try again?\"\n"
   ],
   "id": "31f078614f0aa45e",
   "outputs": [],
   "execution_count": 2
  },
  {
   "metadata": {
    "ExecuteTime": {
     "end_time": "2024-05-12T13:56:30.698365Z",
     "start_time": "2024-05-12T13:56:30.694947Z"
    }
   },
   "cell_type": "code",
   "source": "app = Flask(__name__)\n",
   "id": "45230e45ae13a354",
   "outputs": [],
   "execution_count": 3
  },
  {
   "metadata": {
    "ExecuteTime": {
     "end_time": "2024-05-12T13:56:30.702408Z",
     "start_time": "2024-05-12T13:56:30.699260Z"
    }
   },
   "cell_type": "code",
   "source": [
    "@app.route('/chat', methods=['POST'])\n",
    "def chat():\n",
    "    data = request.get_json()\n",
    "    user_query = data['query']\n",
    "    response = generate_response(user_query)\n",
    "    return jsonify({'response': response})\n"
   ],
   "id": "100f3c5fde761601",
   "outputs": [],
   "execution_count": 4
  },
  {
   "metadata": {
    "ExecuteTime": {
     "end_time": "2024-05-12T13:56:32.067082Z",
     "start_time": "2024-05-12T13:56:31.548718Z"
    }
   },
   "cell_type": "code",
   "source": [
    "if __name__ == '__main__':\n",
    "    app.run(debug=True)\n"
   ],
   "id": "4008f651506ec5c2",
   "outputs": [
    {
     "name": "stdout",
     "output_type": "stream",
     "text": [
      " * Serving Flask app '__main__'\n",
      " * Debug mode: on\n"
     ]
    },
    {
     "name": "stderr",
     "output_type": "stream",
     "text": [
      "WARNING: This is a development server. Do not use it in a production deployment. Use a production WSGI server instead.\n",
      " * Running on http://127.0.0.1:5000\n",
      "Press CTRL+C to quit\n",
      " * Restarting with stat\n",
      "Traceback (most recent call last):\n",
      "  File \"<frozen runpy>\", line 198, in _run_module_as_main\n",
      "  File \"<frozen runpy>\", line 88, in _run_code\n",
      "  File \"/home/hgidea/Desktop/Coding/Python/.venv/lib/python3.12/site-packages/ipykernel_launcher.py\", line 18, in <module>\n",
      "    app.launch_new_instance()\n",
      "  File \"/home/hgidea/Desktop/Coding/Python/.venv/lib/python3.12/site-packages/traitlets/config/application.py\", line 1074, in launch_instance\n",
      "    app.initialize(argv)\n",
      "  File \"/home/hgidea/Desktop/Coding/Python/.venv/lib/python3.12/site-packages/traitlets/config/application.py\", line 118, in inner\n",
      "    return method(app, *args, **kwargs)\n",
      "           ^^^^^^^^^^^^^^^^^^^^^^^^^^^^\n",
      "  File \"/home/hgidea/Desktop/Coding/Python/.venv/lib/python3.12/site-packages/ipykernel/kernelapp.py\", line 692, in initialize\n",
      "    self.init_sockets()\n",
      "  File \"/home/hgidea/Desktop/Coding/Python/.venv/lib/python3.12/site-packages/ipykernel/kernelapp.py\", line 331, in init_sockets\n",
      "    self.shell_port = self._bind_socket(self.shell_socket, self.shell_port)\n",
      "                      ^^^^^^^^^^^^^^^^^^^^^^^^^^^^^^^^^^^^^^^^^^^^^^^^^^^^^\n",
      "  File \"/home/hgidea/Desktop/Coding/Python/.venv/lib/python3.12/site-packages/ipykernel/kernelapp.py\", line 253, in _bind_socket\n",
      "    return self._try_bind_socket(s, port)\n",
      "           ^^^^^^^^^^^^^^^^^^^^^^^^^^^^^^\n",
      "  File \"/home/hgidea/Desktop/Coding/Python/.venv/lib/python3.12/site-packages/ipykernel/kernelapp.py\", line 229, in _try_bind_socket\n",
      "    s.bind(\"tcp://%s:%i\" % (self.ip, port))\n",
      "  File \"/home/hgidea/Desktop/Coding/Python/.venv/lib/python3.12/site-packages/zmq/sugar/socket.py\", line 311, in bind\n",
      "    super().bind(addr)\n",
      "  File \"_zmq.py\", line 898, in zmq.backend.cython._zmq.Socket.bind\n",
      "  File \"_zmq.py\", line 160, in zmq.backend.cython._zmq._check_rc\n",
      "zmq.error.ZMQError: Address already in use (addr='tcp://127.0.0.1:40231')\n"
     ]
    },
    {
     "ename": "SystemExit",
     "evalue": "1",
     "output_type": "error",
     "traceback": [
      "An exception has occurred, use %tb to see the full traceback.\n",
      "\u001B[0;31mSystemExit\u001B[0m\u001B[0;31m:\u001B[0m 1\n"
     ]
    },
    {
     "name": "stderr",
     "output_type": "stream",
     "text": [
      "/home/hgidea/Desktop/Coding/Python/.venv/lib/python3.12/site-packages/IPython/core/interactiveshell.py:3585: UserWarning: To exit: use 'exit', 'quit', or Ctrl-D.\n",
      "  warn(\"To exit: use 'exit', 'quit', or Ctrl-D.\", stacklevel=1)\n"
     ]
    }
   ],
   "execution_count": 5
  }
 ],
 "metadata": {
  "kernelspec": {
   "display_name": "Python 3",
   "language": "python",
   "name": "python3"
  },
  "language_info": {
   "codemirror_mode": {
    "name": "ipython",
    "version": 2
   },
   "file_extension": ".py",
   "mimetype": "text/x-python",
   "name": "python",
   "nbconvert_exporter": "python",
   "pygments_lexer": "ipython2",
   "version": "2.7.6"
  }
 },
 "nbformat": 4,
 "nbformat_minor": 5
}
