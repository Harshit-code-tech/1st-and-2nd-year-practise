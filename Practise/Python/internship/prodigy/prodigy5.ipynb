{
 "cells": [
  {
   "cell_type": "code",
   "id": "initial_id",
   "metadata": {
    "collapsed": true,
    "ExecuteTime": {
     "end_time": "2024-05-01T15:38:19.202698Z",
     "start_time": "2024-05-01T15:38:19.197972Z"
    }
   },
   "source": "",
   "execution_count": 1,
   "outputs": []
  },
  {
   "metadata": {
    "ExecuteTime": {
     "end_time": "2024-05-01T17:50:25.426127Z",
     "start_time": "2024-05-01T17:50:22.392078Z"
    }
   },
   "cell_type": "code",
   "source": [
    "\n",
    "import tensorflow as tf\n",
    "print(tf.__version__)\n",
    "print(tf.test.gpu_device_name())"
   ],
   "id": "f841099e19650ca4",
   "execution_count": 2,
   "outputs": []
  },
  {
   "metadata": {
    "ExecuteTime": {
     "end_time": "2024-05-01T18:11:15.463696Z",
     "start_time": "2024-05-01T18:11:15.453776Z"
    }
   },
   "cell_type": "code",
   "source": [
    "import os\n",
    "os.listdir('/home/hgidea/Desktop/Coding/Python/ai_ml practise/ml/internship/prodigy/archive/food-101/food-101/images')"
   ],
   "id": "792879200e1e3d24",
   "execution_count": 1,
   "outputs": []
  },
  {
   "metadata": {
    "ExecuteTime": {
     "end_time": "2024-05-01T18:11:17.646257Z",
     "start_time": "2024-05-01T18:11:17.260179Z"
    }
   },
   "cell_type": "code",
   "source": [
    "\n",
    "import glob\n",
    "import random\n",
    "from PIL import Image\n",
    "\n",
    "# Set the data directory path (assuming the folder is named \"food-101\" in your project directory)\n",
    "data_dir = \"/home/hgidea/Desktop/Coding/Python/ai_ml practise/ml/internship/prodigy/archive/food-101/food-101/images\"\n",
    "\n",
    "# Get all subdirectories (assuming these represent food classes)\n",
    "class_dirs = [d for d in os.listdir(data_dir) if os.path.isdir(os.path.join(data_dir, d))]\n",
    "\n",
    "# Print total number of classes\n",
    "print(f\"Total number of classes: {len(class_dirs)}\")\n",
    "\n",
    "# Choose a random class directory\n",
    "random_class_index = random.randint(0, len(class_dirs) - 1)\n",
    "sample_class = class_dirs[random_class_index]\n",
    "\n",
    "# Define the pattern to search for both .jpg and .png files\n",
    "image_paths = glob.glob(os.path.join(data_dir, sample_class, \"*.jpg\")) + glob.glob(os.path.join(data_dir, sample_class, \"*.png\"))\n",
    "\n",
    "# Print some information about the sample class\n",
    "print(f\"\\nSample Class: {sample_class}\")\n",
    "print(f\"Number of images: {len(image_paths)}\")\n",
    "\n",
    "# Optionally, display a few sample images (modify to show more if desired)\n",
    "for i in range(min(3, len(image_paths))):  # Show the first 3 images or fewer if there are fewer images\n",
    "    # Get the path of the current image\n",
    "    image_path = image_paths[i]\n",
    "    # Display the folder name and image name in terminal\n",
    "    print(f\"\\nRandomly picked image from folder: {sample_class}, image name: {os.path.basename(image_path)}\")\n",
    "    try:\n",
    "        # Open and display the image\n",
    "        image = Image.open(image_path)\n",
    "        image.show()  # This will display the image in a pop-up window\n",
    "    except (IOError, OSError):\n",
    "        print(f\"Error displaying image {os.path.basename(image_path)}. Ensure PIL is installed and image format is supported.\")\n",
    "\n",
    "# Loop through each class directory\n",
    "for class_dir in class_dirs:\n",
    "    print(f\"\\nClass: {class_dir}\")\n",
    "    # Get the path to the current class directory\n",
    "    class_path = os.path.join(data_dir, class_dir)\n",
    "    # List all images for the current class directory\n",
    "    image_files = [f for f in os.listdir(class_path) if f.endswith(\".jpg\") or f.endswith(\".png\")]\n",
    "    # Print number of images for the current class\n",
    "    print(f\"Number of images: {len(image_files)}\")\n",
    "    # Print some example image filenames (optional)\n",
    "    if len(image_files) > 0:\n",
    "        print(\"Example images:\")\n",
    "        for i in range(min(3, len(image_files))):\n",
    "            print(image_files[i])\n"
   ],
   "id": "74e2a3cba2b0d42f",
   "execution_count": 2,
   "outputs": []
  },
  {
   "metadata": {
    "ExecuteTime": {
     "end_time": "2024-05-01T18:12:36.736337Z",
     "start_time": "2024-05-01T18:11:26.691565Z"
    }
   },
   "cell_type": "code",
   "source": [
    "import numpy as np\n",
    "from sklearn.model_selection import train_test_split\n",
    "import cv2\n",
    "import psutil\n",
    "import sys  # Import the sys module for sys.exit()\n",
    "\n",
    "# Define memory threshold (e.g., 90% of available memory)\n",
    "memory_threshold_percent = 98\n",
    "\n",
    "def check_memory_usage():\n",
    "    # Get current memory usage\n",
    "    memory_usage = psutil.virtual_memory().percent\n",
    "    return memory_usage\n",
    "\n",
    "# Main program loop\n",
    "while True:\n",
    "    # Check memory usage before loading images\n",
    "    memory_usage_before_loading = check_memory_usage()\n",
    "    print(\"Memory Usage Before Loading:\", memory_usage_before_loading)\n",
    "\n",
    "    # Load and preprocess images\n",
    "    images = []\n",
    "    labels = []\n",
    "    batch_size =  36 # You can adjust this based on your available memory\n",
    "\n",
    "    # Loop through each class directory\n",
    "    for class_index, class_dir in enumerate(class_dirs):\n",
    "        # Get the path to the current class directory\n",
    "        class_path = os.path.join(data_dir, class_dir)\n",
    "        # List all images for the current class directory\n",
    "        image_files = [f for f in os.listdir(class_path) if f.endswith(\".jpg\") or f.endswith(\".png\")]\n",
    "        # Load and preprocess images in batches\n",
    "        for i in range(0, len(image_files), batch_size):\n",
    "            batch_image_files = image_files[i:i+batch_size]\n",
    "            batch_images = []\n",
    "            batch_labels = []\n",
    "            for image_file in batch_image_files:\n",
    "                # Construct the path to the current image\n",
    "                image_path = os.path.join(class_path, image_file)\n",
    "                # Load the image using OpenCV\n",
    "                try:\n",
    "                    image = cv2.imread(image_path)\n",
    "                    # Resize the image to 224x224\n",
    "                    image = cv2.resize(image, (224, 224))\n",
    "                    # Convert the image to float32 and normalize pixel values to the range [0, 1]\n",
    "                    image = image.astype(np.float32) / 255.0\n",
    "                    # Append the image and its corresponding label to the batch lists\n",
    "                    batch_images.append(image)\n",
    "                    batch_labels.append(class_index)\n",
    "                except Exception as e:\n",
    "                    print(f\"Error loading/preprocessing image: {image_path}, {e}\")\n",
    "            # Append the batch images and labels to the main lists\n",
    "            images.extend(batch_images)\n",
    "            labels.extend(batch_labels)\n",
    "\n",
    "            # Check memory usage after processing each batch\n",
    "            memory_usage_after_batch = check_memory_usage()\n",
    "            print(\"Memory Usage After Processing Batch:\", memory_usage_after_batch)\n",
    "            # Check if memory usage exceeds the threshold\n",
    "            if memory_usage_after_batch > memory_threshold_percent:\n",
    "                print(\"Memory usage exceeded threshold. Terminating program.\")\n",
    "                # Perform any necessary cleanup or logging here\n",
    "                # Terminate the program\n",
    "                sys.exit()  # Use sys.exit() to terminate the program\n",
    "\n",
    "        # Check memory usage after processing each class\n",
    "        memory_usage_after_class = check_memory_usage()\n",
    "        print(\"Memory Usage After Processing Class:\", memory_usage_after_class)\n",
    "        # Check if memory usage exceeds the threshold\n",
    "        if memory_usage_after_class > memory_threshold_percent:\n",
    "            print(\"Memory usage exceeded threshold. Terminating program.\")\n",
    "            # Perform any necessary cleanup or logging here\n",
    "            # Terminate the program\n",
    "            sys.exit()  # Use sys.exit() to terminate the program\n",
    "\n",
    "    # Convert the lists to numpy arrays\n",
    "    images = np.array(images)\n",
    "    labels = np.array(labels)\n",
    "\n",
    "    # Split the dataset into training, validation, and testing sets\n",
    "    # Here, we allocate 80% of the data for training, 10% for validation, and 10% for testing\n",
    "    X_train, X_test, y_train, y_test = train_test_split(images, labels, test_size=0.2, random_state=42)\n",
    "    X_val, X_test, y_val, y_test = train_test_split(X_test, y_test, test_size=0.5, random_state=42)\n",
    "\n",
    "    # Print the shapes of the training, validation, and testing sets\n",
    "    print(\"Training set shape:\", X_train.shape)\n",
    "    print(\"Validation set shape:\", X_val.shape)\n",
    "    print(\"Testing set shape:\", X_test.shape)\n",
    "\n",
    "    # Program continues here if memory usage is below the threshold\n",
    "    print(\"Program terminated.\")\n"
   ],
   "id": "e74100ccc3a05154",
   "execution_count": 3,
   "outputs": []
  },
  {
   "metadata": {
    "ExecuteTime": {
     "end_time": "2024-05-01T16:02:06.725565Z",
     "start_time": "2024-05-01T16:02:06.345461Z"
    }
   },
   "cell_type": "code",
   "source": "",
   "id": "88ad3d961aef6123",
   "execution_count": 18,
   "outputs": []
  }
 ],
 "metadata": {
  "kernelspec": {
   "display_name": "Python 3",
   "language": "python",
   "name": "python3"
  },
  "language_info": {
   "codemirror_mode": {
    "name": "ipython",
    "version": 2
   },
   "file_extension": ".py",
   "mimetype": "text/x-python",
   "name": "python",
   "nbconvert_exporter": "python",
   "pygments_lexer": "ipython2",
   "version": "2.7.6"
  }
 },
 "nbformat": 4,
 "nbformat_minor": 5
}
